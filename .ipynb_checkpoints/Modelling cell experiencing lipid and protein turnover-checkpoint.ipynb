{
 "cells": [
  {
   "cell_type": "code",
   "execution_count": 56,
   "metadata": {},
   "outputs": [],
   "source": [
    "def modelMatureCell(model,proteinDegrdationRate=1,lipidDegrdationRate=1):   \n",
    "    \n",
    "    #constrain light-reactions\n",
    "    model.reactions.get_by_id(\"Photon_tx\").lower_bound = 0\n",
    "    model.reactions.get_by_id(\"Photon_tx\").upper_bound = 0\n",
    "    \n",
    "    #constraint sucrose and ammonium uptake\n",
    "    model.reactions.get_by_id(\"Sucrose_tx\").lower_bound = 0\n",
    "    model.reactions.get_by_id(\"Sucrose_tx\").upper_bound = 0\n",
    "    model.reactions.get_by_id(\"NH4_tx\").lower_bound = 0\n",
    "    model.reactions.get_by_id(\"NH4_tx\").upper_bound = 0\n",
    "    \n",
    "    #set lipid turnover rate\n",
    "    lipidMW = model.metabolites.get_by_id(\"PALMITATE_x\").formula_weight\n",
    "    model.reactions.get_by_id(\"Beta_Oxidation_x\").lower_bound = lipidDegrdationRate/lipidMW\n",
    "    model.reactions.get_by_id(\"Beta_Oxidation_x\").upper_bound = lipidDegrdationRate/lipidMW\n",
    "    \n",
    "    #set protein turnover rate\n",
    "    proteinMW = model.metabolites.get_by_id(\"Protein_b\").formula_weight\n",
    "    model.reactions.get_by_id(\"Protein_degradation\").lower_bound = proteinDegrdationRate/proteinMW\n",
    "    model.reactions.get_by_id(\"Protein_degradation\").upper_bound = proteinDegrdationRate/proteinMW\n",
    "    \n",
    "    #set minimization of glucose uptake as the objective of the  cell\n",
    "    model.reactions.get_by_id(\"GLC_tx\").objective_coefficient = -1\n",
    "    \n",
    "    #run parsimonious FBA to predict flux distribution with minimal metabolic flux\n",
    "    sol = flux_analysis.parsimonious.pfba(model)\n",
    "    model.solution = sol\n",
    "    return model\n",
    "\n"
   ]
  },
  {
   "cell_type": "code",
   "execution_count": 57,
   "metadata": {},
   "outputs": [],
   "source": [
    "from cobra import io\n",
    "from cobra import flux_analysis\n",
    "from cobra.core import Reaction, Metabolite\n",
    "\n",
    "#import model from SBML file\n",
    "model = model = io.sbml.create_cobra_model_from_sbml_file(\"PlantCoreMetabolism_v1_2_3.xml\")"
   ]
  },
  {
   "cell_type": "markdown",
   "metadata": {},
   "source": [
    "#### Add reaction to represent synthesis of protein \n",
    "    Transform reaction \"Biomass_tx\" to \"Protein_biomas\" reaction by remove inorganic ions and creating a Protein_b metabolite"
   ]
  },
  {
   "cell_type": "code",
   "execution_count": 58,
   "metadata": {},
   "outputs": [
    {
     "name": "stdout",
     "output_type": "stream",
     "text": [
      "0.2326035201 pALA_b + 0.1771733159 pARG_b + 0.1447158566 pASN_b + 0.3855539754 pASP_b + 0.1325494187 pGLN_b + 0.2261465373 pGLU_b + 0.2309411553 pGLY_b + 0.1673732646 pHIS_b + 0.1454255314 pILE_b + 0.0053400685 pLEU_b + 0.3415370304 pLYS_b + 0.1420323181 pMET_b + 0.1980982902 pPHE_b + 0.3368402626 pSER_b + 0.2365218861 pTHR_b + 0.2071316851 pTYR_b + 0.158571619 pVAL_b --> Protein_b\n"
     ]
    }
   ],
   "source": [
    "rxn = model.reactions.get_by_id(\"Biomass_tx\")\n",
    "rxn.id = \"Protein_biomass\"\n",
    "for met in [\"Ca_b\",\"K_b\",\"Mg_b\"]:\n",
    "    met = model.metabolites.get_by_id(met)\n",
    "    coeff = rxn.metabolites.get(met)\n",
    "    rxn.add_metabolites({met:-1*coeff})\n",
    "\n",
    "#create metabolite Protein[b]\n",
    "met = Metabolite(\"Protein_b\",name=\"Protein[b]\")\n",
    "formula_dict = rxn.check_mass_balance()\n",
    "met.formula = \"\".join([atom+str(formula_dict[atom]*-1) for atom in formula_dict.keys() if atom != \"charge\"])\n",
    "met.charge = formula_dict[\"charge\"]*-1\n",
    "\n",
    "rxn.add_metabolites({met:1})\n",
    "print rxn.reaction"
   ]
  },
  {
   "cell_type": "markdown",
   "metadata": {},
   "source": [
    "#### Add reaction to represent breakdown of protein to individual amino acids"
   ]
  },
  {
   "cell_type": "code",
   "execution_count": 59,
   "metadata": {},
   "outputs": [
    {
     "name": "stdout",
     "output_type": "stream",
     "text": [
      "Protein_b --> 0.1771733159 ARG_c + 0.1447158566 ASN_c + 0.1325494187 GLN_c + 0.2261465373 GLT_c + 0.2309411553 GLY_c + 0.1673732646 HIS_c + 0.1454255314 ILE_c + 0.0053400685 LEU_c + 0.3415370304 LYS_c + 0.2326035201 L_ALPHA_ALANINE_c + 0.3855539754 L_ASPARTATE_c + 0.1420323181 MET_c + 0.1980982902 PHE_c + 0.3368402626 SER_c + 0.2365218861 THR_c + 0.2071316851 TYR_c + 0.158571619 VAL_c\n"
     ]
    }
   ],
   "source": [
    "rxn = Reaction(\"Protein_degradation\")\n",
    "rxn.add_metabolites({model.metabolites.Protein_b:-1,\n",
    "                     model.metabolites.L_ALPHA_ALANINE_c:0.2326035201,\n",
    "                     model.metabolites.ARG_c:0.1771733159,\n",
    "                     model.metabolites.ASN_c:0.1447158566,\n",
    "                     model.metabolites.L_ASPARTATE_c:0.3855539754,\n",
    "                     model.metabolites.GLN_c:0.1325494187,\n",
    "                     model.metabolites.GLT_c:0.2261465373,\n",
    "                     model.metabolites.GLY_c:0.2309411553,\n",
    "                     model.metabolites.HIS_c:0.1673732646,\n",
    "                     model.metabolites.ILE_c:0.1454255314,\n",
    "                     model.metabolites.LEU_c:0.0053400685,\n",
    "                     model.metabolites.LYS_c:0.3415370304,\n",
    "                     model.metabolites.MET_c:0.1420323181,\n",
    "                     model.metabolites.PHE_c:0.1980982902,\n",
    "                     model.metabolites.SER_c:0.3368402626,\n",
    "                     model.metabolites.THR_c:0.2365218861,\n",
    "                     model.metabolites.TYR_c:0.2071316851,\n",
    "                     model.metabolites.VAL_c:0.158571619})\n",
    "rxn.lower_bound = 0\n",
    "rxn.upper_bound = 1000\n",
    "model.add_reaction(rxn)\n",
    "print rxn.reaction"
   ]
  },
  {
   "cell_type": "markdown",
   "metadata": {},
   "source": [
    "#### Model mature cell"
   ]
  },
  {
   "cell_type": "code",
   "execution_count": 60,
   "metadata": {},
   "outputs": [
    {
     "data": {
      "text/plain": [
       "3.2959045000000004e-05"
      ]
     },
     "execution_count": 60,
     "metadata": {},
     "output_type": "execute_result"
    }
   ],
   "source": [
    "0.2*((3.04+0.7+4.28+3.45)/4)*57.47/1000000"
   ]
  },
  {
   "cell_type": "code",
   "execution_count": 61,
   "metadata": {},
   "outputs": [
    {
     "data": {
      "text/plain": [
       "2.8606666666666667e-11"
      ]
     },
     "execution_count": 61,
     "metadata": {},
     "output_type": "execute_result"
    }
   ],
   "source": [
    "0.5*(0.000001*(55.36+55.55+50.02+59.18+60.84+62.33)/6)/1000000"
   ]
  },
  {
   "cell_type": "markdown",
   "metadata": {},
   "source": [
    "If we assume lipid turnover rate is 0.2 $hr^{-1}$ and a cell's lipid content is 164.80 $ng.cell^{-1}$, lipid degradation rate can be assumed to be **32.96 $ng.cell^{-1}.hr^{-1}$**. Similarly if we assume protein turnover rate is 0.5 $hr^{-1}$ and a cell's protien content is 0.057 $ng.cell^{-1}$, protein degradation rate can be assumed to be **0.029 $ng.cell^{-1}.hr^{-1}$**"
   ]
  },
  {
   "cell_type": "code",
   "execution_count": 62,
   "metadata": {},
   "outputs": [],
   "source": [
    "model2 = modelMatureCell(model,proteinDegrdationRate=32.96,lipidDegrdationRate=0.029)"
   ]
  },
  {
   "cell_type": "markdown",
   "metadata": {},
   "source": [
    "#### Analyzing metabolic fluxes"
   ]
  },
  {
   "cell_type": "code",
   "execution_count": 63,
   "metadata": {},
   "outputs": [
    {
     "name": "stdout",
     "output_type": "stream",
     "text": [
      "IN FLUXES               OUT FLUXES              OBJECTIVES\n",
      "----------------------  ----------------------  --------------\n",
      "OXYGEN_MOLEC...  0.264  WATER_e          0.264  GLC_tx  -0.044\n",
      "GLC_e            0.044  CARBON_DIOXI...  0.264\n"
     ]
    }
   ],
   "source": [
    "model2.summary()"
   ]
  },
  {
   "cell_type": "markdown",
   "metadata": {},
   "source": [
    "From the modelling results, we can see that cell needs to take up atleast 0.044 $nmol glucose.hr^{-1}$ and has a respiration rate of 0.264 $nmol CO_{2}. hr^{-1}$ under optimal flux distribution"
   ]
  },
  {
   "cell_type": "code",
   "execution_count": null,
   "metadata": {},
   "outputs": [],
   "source": []
  },
  {
   "cell_type": "code",
   "execution_count": null,
   "metadata": {},
   "outputs": [],
   "source": []
  },
  {
   "cell_type": "code",
   "execution_count": null,
   "metadata": {},
   "outputs": [],
   "source": []
  }
 ],
 "metadata": {
  "kernelspec": {
   "display_name": "Python 2",
   "language": "python",
   "name": "python2"
  },
  "language_info": {
   "codemirror_mode": {
    "name": "ipython",
    "version": 2
   },
   "file_extension": ".py",
   "mimetype": "text/x-python",
   "name": "python",
   "nbconvert_exporter": "python",
   "pygments_lexer": "ipython2",
   "version": "2.7.15+"
  }
 },
 "nbformat": 4,
 "nbformat_minor": 2
}
