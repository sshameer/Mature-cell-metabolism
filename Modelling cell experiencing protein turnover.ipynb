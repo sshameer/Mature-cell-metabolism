{
 "cells": [
  {
   "cell_type": "code",
   "execution_count": 1,
   "metadata": {},
   "outputs": [],
   "source": [
    "def modelMatureCell(model,proteinDegrdationRate=1):   \n",
    "    \n",
    "    #constrain light-reactions\n",
    "    model.reactions.get_by_id(\"Photon_tx\").lower_bound = 0\n",
    "    model.reactions.get_by_id(\"Photon_tx\").upper_bound = 0\n",
    "    \n",
    "    #constraint sucrose and ammonium uptake\n",
    "    model.reactions.get_by_id(\"Sucrose_tx\").lower_bound = 0\n",
    "    model.reactions.get_by_id(\"Sucrose_tx\").upper_bound = 0\n",
    "    model.reactions.get_by_id(\"NH4_tx\").lower_bound = 0\n",
    "    model.reactions.get_by_id(\"NH4_tx\").upper_bound = 0\n",
    "    \n",
    "    #set protein turnover rate\n",
    "    proteinMW = model.metabolites.get_by_id(\"Protein_b\").formula_weight\n",
    "    model.reactions.get_by_id(\"Protein_degradation\").lower_bound = proteinDegrdationRate/proteinMW\n",
    "    model.reactions.get_by_id(\"Protein_degradation\").upper_bound = proteinDegrdationRate/proteinMW\n",
    "    \n",
    "    #set minimization of glucose uptake as the objective of the  cell\n",
    "    model.reactions.get_by_id(\"GLC_tx\").objective_coefficient = -1\n",
    "    \n",
    "    #run parsimonious FBA to predict flux distribution with minimal metabolic flux\n",
    "    sol = flux_analysis.parsimonious.pfba(model)\n",
    "    model.solution = sol\n",
    "    return model\n",
    "\n"
   ]
  },
  {
   "cell_type": "code",
   "execution_count": 2,
   "metadata": {},
   "outputs": [],
   "source": [
    "from cobra import io\n",
    "from cobra import flux_analysis\n",
    "from cobra.core import Reaction, Metabolite\n",
    "\n",
    "#import model from SBML file\n",
    "model = io.sbml.read_sbml_model(\"core_model.xml\")"
   ]
  },
  {
   "cell_type": "markdown",
   "metadata": {},
   "source": [
    "#### Add reaction to represent synthesis of protein \n",
    "    Transform reaction \"Biomass_tx\" to \"Protein_biomas\" reaction by remove inorganic ions and creating a Protein_b metabolite"
   ]
  },
  {
   "cell_type": "code",
   "execution_count": 3,
   "metadata": {},
   "outputs": [
    {
     "name": "stdout",
     "output_type": "stream",
     "text": [
      "0.456109633051 pALA_b + 0.248708916305 pARG_b + 0.244231166515 pASN_b + 0.244231166515 pASP_b + 0.294390076845 pGLN_b + 0.294390076845 pGLU_b + 0.206565786551 pGLY_b + 0.0787758328997 pHIS_b + 0.164930826186 pILE_b + 0.359404209428 pLEU_b + 0.25644187977 pLYS_b + 0.108683911354 pMET_b + 0.237379330463 pPHE_b + 0.364526466737 pSER_b + 0.206565786551 pTHR_b + 0.165404065972 pTYR_b + 0.312041920884 pVAL_b --> Protein_b\n"
     ]
    }
   ],
   "source": [
    "rxn = model.reactions.get_by_id(\"Biomass_tx\")\n",
    "model.metabolites.X_Biomass_t.remove_from_model()\n",
    "rxn.id = \"Protein_biomass\"\n",
    "for met in [\"Ca_b\",\"K_b\",\"Mg_b\"]:\n",
    "    met = model.metabolites.get_by_id(met)\n",
    "    coeff = rxn.metabolites.get(met)\n",
    "    rxn.add_metabolites({met:-1*coeff})\n",
    "\n",
    "#create metabolite Protein[b]\n",
    "met = Metabolite(\"Protein_b\",name=\"Protein[b]\")\n",
    "formula_dict = rxn.check_mass_balance()\n",
    "met.formula = \"\".join([atom+str(formula_dict[atom]*-1) for atom in formula_dict.keys() if atom != \"charge\"])\n",
    "met.charge = formula_dict[\"charge\"]*-1\n",
    "\n",
    "rxn.add_metabolites({met:1})\n",
    "print(rxn.reaction)"
   ]
  },
  {
   "cell_type": "markdown",
   "metadata": {},
   "source": [
    "#### Add reaction to represent breakdown of protein to individual amino acids"
   ]
  },
  {
   "cell_type": "code",
   "execution_count": 4,
   "metadata": {},
   "outputs": [
    {
     "name": "stdout",
     "output_type": "stream",
     "text": [
      "Protein_b --> 0.248708916305 ARG_c + 0.244231166515 ASN_c + 0.294390076845 GLN_c + 0.294390076845 GLT_c + 0.206565786551 GLY_c + 0.0787758328997 HIS_c + 0.164930826186 ILE_c + 0.359404209428 LEU_c + 0.25644187977 LYS_c + 0.456109633051 L_ALPHA_ALANINE_c + 0.244231166515 L_ASPARTATE_c + 0.108683911354 MET_c + 0.237379330463 PHE_c + 0.364526466737 SER_c + 0.206565786551 THR_c + 0.165404065972 TYR_c + 0.312041920884 VAL_c\n"
     ]
    }
   ],
   "source": [
    "rxn = Reaction(\"Protein_degradation\")\n",
    "rxn.add_metabolites({model.metabolites.Protein_b:-1,\n",
    "                     model.metabolites.L_ALPHA_ALANINE_c:0.456109633051,\n",
    "                     model.metabolites.ARG_c:0.248708916305,\n",
    "                     model.metabolites.ASN_c:0.244231166515,\n",
    "                     model.metabolites.L_ASPARTATE_c:0.244231166515,\n",
    "                     model.metabolites.GLN_c:0.294390076845,\n",
    "                     model.metabolites.GLT_c:0.294390076845,\n",
    "                     model.metabolites.GLY_c:0.206565786551,\n",
    "                     model.metabolites.HIS_c:0.0787758328997,\n",
    "                     model.metabolites.ILE_c:0.164930826186,\n",
    "                     model.metabolites.LEU_c:0.359404209428,\n",
    "                     model.metabolites.LYS_c:0.25644187977,\n",
    "                     model.metabolites.MET_c:0.108683911354,\n",
    "                     model.metabolites.PHE_c:0.237379330463,\n",
    "                     model.metabolites.SER_c:0.364526466737,\n",
    "                     model.metabolites.THR_c:0.206565786551,\n",
    "                     model.metabolites.TYR_c:0.165404065972,\n",
    "                     model.metabolites.VAL_c:0.312041920884})\n",
    "rxn.lower_bound = 0\n",
    "rxn.upper_bound = 1000\n",
    "model.add_reaction(rxn)\n",
    "print(rxn.reaction)"
   ]
  },
  {
   "cell_type": "markdown",
   "metadata": {},
   "source": [
    "#### Model mature cell"
   ]
  },
  {
   "cell_type": "markdown",
   "metadata": {},
   "source": [
    "If we assume protein turnover rate is 0.5 $hr^{-1}$ and a cell's protien content is 0.057 $ng.cell^{-1}$, protein degradation rate can be assumed to be **0.029 $ng.cell^{-1}.hr^{-1}$**"
   ]
  },
  {
   "cell_type": "code",
   "execution_count": 7,
   "metadata": {},
   "outputs": [],
   "source": [
    "model2 = modelMatureCell(model,proteinDegrdationRate=32.96)"
   ]
  },
  {
   "cell_type": "markdown",
   "metadata": {},
   "source": [
    "#### Analyzing metabolic fluxes"
   ]
  },
  {
   "cell_type": "code",
   "execution_count": 8,
   "metadata": {},
   "outputs": [
    {
     "name": "stdout",
     "output_type": "stream",
     "text": [
      "IN FLUXES                OUT FLUXES              OBJECTIVES\n",
      "-----------------------  ----------------------  ---------------\n",
      "OXYGEN_MOLEC...  0.269   CARBON_DIOXI...  0.269  GLC_tx  -0.0448\n",
      "GLC_e            0.0448  WATER_e          0.269\n"
     ]
    }
   ],
   "source": [
    "model2.summary()"
   ]
  },
  {
   "cell_type": "markdown",
   "metadata": {},
   "source": [
    "From the summary, we can see that cell needs to take up atleast 0.0448 $nmol glucose.hr^{-1}$ and has a respiration rate of 0.269 $nmol CO_{2}. hr^{-1}$ under optimal flux distribution"
   ]
  },
  {
   "cell_type": "code",
   "execution_count": 9,
   "metadata": {},
   "outputs": [
    {
     "name": "stdout",
     "output_type": "stream",
     "text": [
      "mitochondrial ATP synthesis flux = 1.5 nmolATP/hr\n",
      "pentose phosphate pathway flux = 0.0 nmol G6P/hr\n",
      "mitochondrial pyruvate dehydrogenase = 0.08959 nmol pyruvate/hr\n",
      "plastidial pyruvate dehydrogenase = 0.0 nmol pyruvate/hr\n"
     ]
    }
   ],
   "source": [
    "rxn = model2.reactions.Mitochondrial_ATP_Synthase_m\n",
    "print(\"mitochondrial ATP synthesis flux = \"+str(round(rxn.x,2)*3)+\" nmolATP/hr\")\n",
    "\n",
    "rxn1 = model2.reactions.GLU6PDEHYDROG_RXN_p\n",
    "rxn2 = model2.reactions.GLU6PDEHYDROG_RXN_c\n",
    "print(\"pentose phosphate pathway flux = \"+str(round(rxn1.x+rxn2.x,5))+\" nmol G6P/hr\")\n",
    "\n",
    "rxn3 = model2.reactions.PYRUVDEH_RXN_m\n",
    "print(\"mitochondrial pyruvate dehydrogenase = \"+str(round(rxn3.x,5))+\" nmol pyruvate/hr\")\n",
    "\n",
    "rxn4 = model2.reactions.PYRUVDEH_RXN_p\n",
    "print(\"plastidial pyruvate dehydrogenase = \"+str(round(rxn4.x,5))+\" nmol pyruvate/hr\")"
   ]
  },
  {
   "cell_type": "code",
   "execution_count": null,
   "metadata": {},
   "outputs": [],
   "source": []
  }
 ],
 "metadata": {
  "kernelspec": {
   "display_name": "Python 2",
   "language": "python",
   "name": "python2"
  },
  "language_info": {
   "codemirror_mode": {
    "name": "ipython",
    "version": 2
   },
   "file_extension": ".py",
   "mimetype": "text/x-python",
   "name": "python",
   "nbconvert_exporter": "python",
   "pygments_lexer": "ipython2",
   "version": "2.7.15+"
  }
 },
 "nbformat": 4,
 "nbformat_minor": 2
}
